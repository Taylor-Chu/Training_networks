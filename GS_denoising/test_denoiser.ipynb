{
 "cells": [
  {
   "cell_type": "code",
   "execution_count": 1,
   "metadata": {},
   "outputs": [
    {
     "name": "stderr",
     "output_type": "stream",
     "text": [
      "/work/sc004/sc004/tc1213/miniconda3/envs/pl2/lib/python3.8/site-packages/tqdm/auto.py:22: TqdmWarning: IProgress not found. Please update jupyter and ipywidgets. See https://ipywidgets.readthedocs.io/en/stable/user_install.html\n",
      "  from .autonotebook import tqdm as notebook_tqdm\n"
     ]
    },
    {
     "ename": "ModuleNotFoundError",
     "evalue": "No module named 'activiation'",
     "output_type": "error",
     "traceback": [
      "\u001b[0;31m---------------------------------------------------------------------------\u001b[0m",
      "\u001b[0;31mModuleNotFoundError\u001b[0m                       Traceback (most recent call last)",
      "\u001b[1;32m/work/sc004/sc004/tc1213/Prox-Pnp2/GS_denoising/test_denoiser.ipynb Cell 1\u001b[0m in \u001b[0;36m<cell line: 4>\u001b[0;34m()\u001b[0m\n\u001b[1;32m      <a href='vscode-notebook-cell://ssh-remote%2Bcirrus_tensorboard/work/sc004/sc004/tc1213/Prox-Pnp2/GS_denoising/test_denoiser.ipynb#ch0000000vscode-remote?line=1'>2</a>\u001b[0m \u001b[39mfrom\u001b[39;00m \u001b[39mastropy\u001b[39;00m\u001b[39m.\u001b[39;00m\u001b[39mio\u001b[39;00m \u001b[39mimport\u001b[39;00m fits\n\u001b[1;32m      <a href='vscode-notebook-cell://ssh-remote%2Bcirrus_tensorboard/work/sc004/sc004/tc1213/Prox-Pnp2/GS_denoising/test_denoiser.ipynb#ch0000000vscode-remote?line=2'>3</a>\u001b[0m \u001b[39mimport\u001b[39;00m \u001b[39mnumpy\u001b[39;00m \u001b[39mas\u001b[39;00m \u001b[39mnp\u001b[39;00m\n\u001b[0;32m----> <a href='vscode-notebook-cell://ssh-remote%2Bcirrus_tensorboard/work/sc004/sc004/tc1213/Prox-Pnp2/GS_denoising/test_denoiser.ipynb#ch0000000vscode-remote?line=3'>4</a>\u001b[0m \u001b[39mfrom\u001b[39;00m \u001b[39mmodels\u001b[39;00m\u001b[39m.\u001b[39;00m\u001b[39mnetwork_unet\u001b[39;00m \u001b[39mimport\u001b[39;00m UNetAuthor\n\u001b[1;32m      <a href='vscode-notebook-cell://ssh-remote%2Bcirrus_tensorboard/work/sc004/sc004/tc1213/Prox-Pnp2/GS_denoising/test_denoiser.ipynb#ch0000000vscode-remote?line=4'>5</a>\u001b[0m \u001b[39mfrom\u001b[39;00m \u001b[39mlightning_denoiser\u001b[39;00m \u001b[39mimport\u001b[39;00m GradMatch\n",
      "File \u001b[0;32m/mnt/lustre/indy2lfs/work/sc004/sc004/tc1213/Prox-Pnp2/GS_denoising/models/__init__.py:1\u001b[0m, in \u001b[0;36m<module>\u001b[0;34m\u001b[0m\n\u001b[0;32m----> 1\u001b[0m \u001b[39mfrom\u001b[39;00m \u001b[39m.\u001b[39;00m\u001b[39mbasic_models\u001b[39;00m \u001b[39mimport\u001b[39;00m simple_CNN\n\u001b[1;32m      2\u001b[0m \u001b[39mfrom\u001b[39;00m \u001b[39m.\u001b[39;00m\u001b[39mmodels_helper\u001b[39;00m \u001b[39mimport\u001b[39;00m get_model\n",
      "File \u001b[0;32m/mnt/lustre/indy2lfs/work/sc004/sc004/tc1213/Prox-Pnp2/GS_denoising/models/basic_models.py:3\u001b[0m, in \u001b[0;36m<module>\u001b[0;34m\u001b[0m\n\u001b[1;32m      1\u001b[0m \u001b[39mimport\u001b[39;00m \u001b[39mtorch\u001b[39;00m\n\u001b[1;32m      2\u001b[0m \u001b[39mimport\u001b[39;00m \u001b[39mtorch\u001b[39;00m\u001b[39m.\u001b[39;00m\u001b[39mnn\u001b[39;00m \u001b[39mas\u001b[39;00m \u001b[39mnn\u001b[39;00m\n\u001b[0;32m----> 3\u001b[0m \u001b[39mfrom\u001b[39;00m \u001b[39mactiviation\u001b[39;00m \u001b[39mimport\u001b[39;00m TanhP1\n\u001b[1;32m      4\u001b[0m \u001b[39mfrom\u001b[39;00m \u001b[39mactiviation\u001b[39;00m \u001b[39mimport\u001b[39;00m ReLUS1, ReLUS05, ReLUS01, ReLUS001, ReLUS005\n\u001b[1;32m      6\u001b[0m cuda \u001b[39m=\u001b[39m \u001b[39mTrue\u001b[39;00m \u001b[39mif\u001b[39;00m torch\u001b[39m.\u001b[39mcuda\u001b[39m.\u001b[39mis_available() \u001b[39melse\u001b[39;00m \u001b[39mFalse\u001b[39;00m\n",
      "\u001b[0;31mModuleNotFoundError\u001b[0m: No module named 'activiation'"
     ]
    }
   ],
   "source": [
    "import torch\n",
    "from astropy.io import fits\n",
    "import numpy as np\n",
    "from models.network_unet import UNetAuthor\n",
    "from lightning_denoiser import GradMatch"
   ]
  },
  {
   "cell_type": "code",
   "execution_count": null,
   "metadata": {},
   "outputs": [],
   "source": [
    "def array2tensor(img):\n",
    "    return torch.from_numpy(img).permute(2, 0, 1).unsqueeze(0)"
   ]
  },
  {
   "cell_type": "code",
   "execution_count": 43,
   "metadata": {},
   "outputs": [],
   "source": [
    "import os"
   ]
  },
  {
   "cell_type": "code",
   "execution_count": 44,
   "metadata": {},
   "outputs": [
    {
     "data": {
      "text/plain": [
       "['3c353.fits', 'cygnus_a.fits', 'cena.fits', 'hercA.fits']"
      ]
     },
     "execution_count": 44,
     "metadata": {},
     "output_type": "execute_result"
    }
   ],
   "source": [
    "dataset_path='/work/sc004/sc004/tc1213/data/data_groundtruth/3c353.fits'\n",
    "img = fits.getdata(dataset_path)\n",
    "input_im = np.float32(img)\n",
    "noise = np.random.normal(0, 6e-4, input_im.shape)\n",
    "noise_im = input_im + noise\n",
    "noise_im_tensor = array2tensor(noise_im).float()\n",
    "# noise_im_tensor = noise_im_tensor.to(PnP_module.device)"
   ]
  },
  {
   "cell_type": "code",
   "execution_count": 38,
   "metadata": {},
   "outputs": [
    {
     "ename": "TypeError",
     "evalue": "__init__() missing 1 required positional argument: 'hparams'",
     "output_type": "error",
     "traceback": [
      "\u001b[0;31m---------------------------------------------------------------------------\u001b[0m",
      "\u001b[0;31mTypeError\u001b[0m                                 Traceback (most recent call last)",
      "\u001b[1;32m/work/sc004/sc004/tc1213/Prox-Pnp2/GS_denoising/test_denoiser.ipynb Cell 3\u001b[0m in \u001b[0;36m<cell line: 1>\u001b[0;34m()\u001b[0m\n\u001b[0;32m----> <a href='vscode-notebook-cell://ssh-remote%2Bcirrus_tensorboard/work/sc004/sc004/tc1213/Prox-Pnp2/GS_denoising/test_denoiser.ipynb#ch0000014vscode-remote?line=0'>1</a>\u001b[0m denoiser_model \u001b[39m=\u001b[39m GradMatch()\n",
      "\u001b[0;31mTypeError\u001b[0m: __init__() missing 1 required positional argument: 'hparams'"
     ]
    }
   ],
   "source": [
    "denoiser_model = GradMatch()"
   ]
  },
  {
   "cell_type": "code",
   "execution_count": 2,
   "metadata": {},
   "outputs": [],
   "source": [
    "model = UNetAuthor(nc=[32, 64, 128, 256])\n",
    "checkpoint = torch.load('/work/sc004/sc004/tc1213/Prox-Pnp2/GS_denoising/logs_UNetAuthor/s6-2_3/final.ckpt', map_location=torch.device('cpu'))\n",
    "model.load_state_dict(checkpoint['state_dict'])\n",
    "model.eval()"
   ]
  },
  {
   "cell_type": "code",
   "execution_count": 36,
   "metadata": {},
   "outputs": [],
   "source": [
    "device = torch.device('cuda' if torch.cuda.is_available() else 'cpu')"
   ]
  },
  {
   "cell_type": "code",
   "execution_count": null,
   "metadata": {},
   "outputs": [],
   "source": [
    "img_true = fits.getdata('/work/sc004/sc004/tc1213/data/data_groundtruth/3c353.fits')\n",
    "sigma = 6e-4\n",
    "noise = np.random.normal(0, sigma, img_true.shape)\n",
    "img_noisy = img_true + noise\n",
    "img_noisy_tensor = array2tensor(img_noisy).float()\n",
    "img_noisy_tensor = img_noisy_tensor.to(device)"
   ]
  },
  {
   "cell_type": "code",
   "execution_count": 34,
   "metadata": {},
   "outputs": [
    {
     "ename": "AttributeError",
     "evalue": "'numpy.ndarray' object has no attribute 'type'",
     "output_type": "error",
     "traceback": [
      "\u001b[0;31m---------------------------------------------------------------------------\u001b[0m",
      "\u001b[0;31mAttributeError\u001b[0m                            Traceback (most recent call last)",
      "\u001b[1;32m/work/sc004/sc004/tc1213/Prox-Pnp2/GS_denoising/test_denoiser.ipynb Cell 6\u001b[0m in \u001b[0;36m<cell line: 2>\u001b[0;34m()\u001b[0m\n\u001b[1;32m      <a href='vscode-notebook-cell://ssh-remote%2Bcirrus_tensorboard/work/sc004/sc004/tc1213/Prox-Pnp2/GS_denoising/test_denoiser.ipynb#ch0000006vscode-remote?line=0'>1</a>\u001b[0m img_true \u001b[39m=\u001b[39m fits\u001b[39m.\u001b[39mgetdata(\u001b[39m'\u001b[39m\u001b[39m/work/sc004/sc004/tc1213/data/data_groundtruth/3c353.fits\u001b[39m\u001b[39m'\u001b[39m)\n\u001b[0;32m----> <a href='vscode-notebook-cell://ssh-remote%2Bcirrus_tensorboard/work/sc004/sc004/tc1213/Prox-Pnp2/GS_denoising/test_denoiser.ipynb#ch0000006vscode-remote?line=1'>2</a>\u001b[0m img_true \u001b[39m=\u001b[39m img_true\u001b[39m.\u001b[39;49mtype(torch\u001b[39m.\u001b[39mFloatTensor)\n\u001b[1;32m      <a href='vscode-notebook-cell://ssh-remote%2Bcirrus_tensorboard/work/sc004/sc004/tc1213/Prox-Pnp2/GS_denoising/test_denoiser.ipynb#ch0000006vscode-remote?line=2'>3</a>\u001b[0m sigma \u001b[39m=\u001b[39m \u001b[39m6e-4\u001b[39m\n\u001b[1;32m      <a href='vscode-notebook-cell://ssh-remote%2Bcirrus_tensorboard/work/sc004/sc004/tc1213/Prox-Pnp2/GS_denoising/test_denoiser.ipynb#ch0000006vscode-remote?line=3'>4</a>\u001b[0m noise \u001b[39m=\u001b[39m torch\u001b[39m.\u001b[39mrandn_like(img_true) \u001b[39m*\u001b[39m sigma\n",
      "\u001b[0;31mAttributeError\u001b[0m: 'numpy.ndarray' object has no attribute 'type'"
     ]
    }
   ],
   "source": [
    "img_true = fits.getdata('/work/sc004/sc004/tc1213/data/data_groundtruth/3c353.fits')\n",
    "img_true = img_true.type(torch.FloatTensor)\n",
    "sigma = 6e-4\n",
    "noise = torch.randn_like(img_true) * sigma\n",
    "img_noisy = img_true + noise"
   ]
  },
  {
   "cell_type": "code",
   "execution_count": 40,
   "metadata": {},
   "outputs": [],
   "source": [
    "checkpoint = torch.load('/work/sc004/sc004/tc1213/Prox-Pnp2/GS_denoising/logs_UNetAuthor/s6-2_3/final.ckpt',map_location=torch.device('cpu'))"
   ]
  },
  {
   "cell_type": "code",
   "execution_count": 42,
   "metadata": {},
   "outputs": [
    {
     "name": "stdout",
     "output_type": "stream",
     "text": [
      "m_head.0.weight\n",
      "m_head.0.bias\n",
      "m_down1.0.weight\n",
      "m_down1.0.bias\n",
      "m_down1.2.weight\n",
      "m_down1.2.bias\n",
      "m_down1.4.weight\n",
      "m_down1.4.bias\n",
      "m_down2.0.weight\n",
      "m_down2.0.bias\n",
      "m_down2.2.weight\n",
      "m_down2.2.bias\n",
      "m_down2.4.weight\n",
      "m_down2.4.bias\n",
      "m_down3.0.weight\n",
      "m_down3.0.bias\n",
      "m_down3.2.weight\n",
      "m_down3.2.bias\n",
      "m_down3.4.weight\n",
      "m_down3.4.bias\n",
      "m_body.0.weight\n",
      "m_body.0.bias\n",
      "m_body.2.weight\n",
      "m_body.2.bias\n",
      "m_body.4.weight\n",
      "m_body.4.bias\n",
      "m_up3.0.weight\n",
      "m_up3.0.bias\n",
      "m_up3.2.weight\n",
      "m_up3.2.bias\n",
      "m_up3.4.weight\n",
      "m_up3.4.bias\n",
      "m_up2.0.weight\n",
      "m_up2.0.bias\n",
      "m_up2.2.weight\n",
      "m_up2.2.bias\n",
      "m_up2.4.weight\n",
      "m_up2.4.bias\n",
      "m_up1.0.weight\n",
      "m_up1.0.bias\n",
      "m_up1.2.weight\n",
      "m_up1.2.bias\n",
      "m_up1.4.weight\n",
      "m_up1.4.bias\n",
      "m_tail.weight\n",
      "m_tail.bias\n"
     ]
    }
   ],
   "source": [
    "old_dict = checkpoint['state_dict']\n",
    "new_dict = {}\n",
    "for key, val in old_dict.items():\n",
    "    new_name = ('.').join(key.split('.')[2:])\n",
    "    print(new_name)"
   ]
  },
  {
   "cell_type": "code",
   "execution_count": null,
   "metadata": {},
   "outputs": [],
   "source": []
  }
 ],
 "metadata": {
  "kernelspec": {
   "display_name": "Python 3.8.13 ('pl2': conda)",
   "language": "python",
   "name": "python3"
  },
  "language_info": {
   "codemirror_mode": {
    "name": "ipython",
    "version": 3
   },
   "file_extension": ".py",
   "mimetype": "text/x-python",
   "name": "python",
   "nbconvert_exporter": "python",
   "pygments_lexer": "ipython3",
   "version": "3.8.13"
  },
  "orig_nbformat": 4,
  "vscode": {
   "interpreter": {
    "hash": "c6bb2915baab67a227d071999a87efe888fbfd627c4d765339da1a10146690c4"
   }
  }
 },
 "nbformat": 4,
 "nbformat_minor": 2
}
